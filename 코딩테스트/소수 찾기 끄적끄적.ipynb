{
 "cells": [
  {
   "cell_type": "code",
   "execution_count": 10,
   "id": "10ed528e",
   "metadata": {},
   "outputs": [
    {
     "data": {
      "text/plain": [
       "'011'"
      ]
     },
     "execution_count": 10,
     "metadata": {},
     "output_type": "execute_result"
    }
   ],
   "source": [
    "a = \"011\"\n",
    "a[0]+a[1]+a[2]\n",
    "만들 수 있는 애들 담은 다음\n",
    "중복 제거하고 % 써서 나머지 0 인거 뽑고 len 2인거 return"
   ]
  },
  {
   "cell_type": "code",
   "execution_count": 7,
   "id": "071dbe61",
   "metadata": {},
   "outputs": [
    {
     "data": {
      "text/plain": [
       "('1', '7', '17', '71')"
      ]
     },
     "execution_count": 7,
     "metadata": {},
     "output_type": "execute_result"
    }
   ],
   "source": [
    "a = \"17\"\n",
    "len(a)-1\n",
    "# a[0],a[1],a[0]+a[1],a[1]+a[0]\n",
    "\n",
    "a[0],a[1],a[2],a[0]+a[1],a[0]+a[2],a[1]+a[0],a[1]"
   ]
  },
  {
   "cell_type": "code",
   "execution_count": 15,
   "id": "5bbdaa7b",
   "metadata": {},
   "outputs": [
    {
     "name": "stdout",
     "output_type": "stream",
     "text": [
      "[('1', '7'), ('7', '1')]\n"
     ]
    }
   ],
   "source": [
    "from itertools import permutations\n",
    "\n",
    "a = \"17\"\n",
    "\n",
    "print(list(permutations(a,2)))"
   ]
  },
  {
   "cell_type": "code",
   "execution_count": 18,
   "id": "876e6aa7",
   "metadata": {},
   "outputs": [],
   "source": [
    "def solution(numbers):\n",
    "    answer = 0\n",
    "    nums = []\n",
    "    \n",
    "def sosu(numbers):\n",
    "    if number < 2:\n",
    "        return False\n",
    "    \n",
    "    for i in range(2, numbers):\n",
    "        if numbers % i == 0:\n",
    "            return False\n",
    "        \n",
    "    return True    \n",
    "    \n",
    "    \n",
    "def solution(numbers):\n",
    "    for i in range(1, len(numbers)+1) :\n",
    "        #순열 모듈 사용해서 나올 수 있는 모든 수 조합\n",
    "        nums.append(list(set(map(''.join, permutations(numbers, i)))))\n",
    "    per = list(set(map(int, set(sum(nums, [])))))\n",
    "    \n",
    "\n",
    "\n",
    "    for j in per:\n",
    "        if sosu(j) == True:\n",
    "            answer += 1\n",
    "    \n",
    "    return answer"
   ]
  }
 ],
 "metadata": {
  "kernelspec": {
   "display_name": "Python 3 (ipykernel)",
   "language": "python",
   "name": "python3"
  },
  "language_info": {
   "codemirror_mode": {
    "name": "ipython",
    "version": 3
   },
   "file_extension": ".py",
   "mimetype": "text/x-python",
   "name": "python",
   "nbconvert_exporter": "python",
   "pygments_lexer": "ipython3",
   "version": "3.10.9"
  }
 },
 "nbformat": 4,
 "nbformat_minor": 5
}
