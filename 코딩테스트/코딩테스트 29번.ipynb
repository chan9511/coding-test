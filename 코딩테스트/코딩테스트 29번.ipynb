{
 "cells": [
  {
   "cell_type": "code",
   "execution_count": null,
   "id": "d6e592cd",
   "metadata": {},
   "outputs": [],
   "source": [
    "# https://school.programmers.co.kr/learn/courses/30/lessons/12926 \n",
    "\n",
    "def solution(s, n):\n",
    "    small = \"abcdefghijklmnopqrstuvwxyz\" \n",
    "    big = \"ABCDEFGHIJKLMNOPQRSTUVWXYZ\" # 알파벳은 26개씩 싸이클\n",
    "    answer = ''\n",
    "    for i in s:\n",
    "        if i in small:  # s에 소문자가 들어왔을 때\n",
    "            answer += small[(small.find(i) + n)%26] # find함수는 string.find(찾을 문자)\n",
    "        elif i in big:  # s에 대문자가 들어왓을 때\n",
    "            answer += big[(big.find(i) + n)%26]\n",
    "        else: # 공백을 포함하고 있을 때\n",
    "            answer += ' ' # 공백추가\n",
    "    return answer"
   ]
  }
 ],
 "metadata": {
  "kernelspec": {
   "display_name": "Python 3 (ipykernel)",
   "language": "python",
   "name": "python3"
  },
  "language_info": {
   "codemirror_mode": {
    "name": "ipython",
    "version": 3
   },
   "file_extension": ".py",
   "mimetype": "text/x-python",
   "name": "python",
   "nbconvert_exporter": "python",
   "pygments_lexer": "ipython3",
   "version": "3.10.9"
  }
 },
 "nbformat": 4,
 "nbformat_minor": 5
}
