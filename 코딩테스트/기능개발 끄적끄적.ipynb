{
 "cells": [
  {
   "cell_type": "code",
   "execution_count": null,
   "id": "8051c0b8",
   "metadata": {},
   "outputs": [],
   "source": [
    "def solution(progresses, speeds):\n",
    "    answer = []\n",
    "    for i in p,s:\n",
    "        \n",
    "    return answer\n",
    "\n",
    "# progresses(작업진도)라는 리스트가 주어지고, 작업진도 < 100\n",
    "# 리스트 대열만큼의 speed(작업속도)가 주어진다. 작업속도 =< 100\n",
    "# 배포는 하루에 한 번, 작업이 100이 될 때 배포.\n",
    "# 하지만 맨 앞이 pop 되어야 그 뒤에도 pop 가능 \n",
    "# ex) 진도=[92,94] 속도=[2,2]면 진도의 [92]가 100되어야 다음 날에 [94]도 나갈 수 있음\n",
    "# 인덱스 기준 작업진도[0]값이 100되면 바로 뒷쪽 진도 100으로 준비된 애가 같이 나감\n",
    "# 그 값이 리턴 맨 앞 값\n",
    "# 맨 앞이 100될때까지 뒤에는 100상태로 대기"
   ]
  },
  {
   "cell_type": "code",
   "execution_count": null,
   "id": "39080b94",
   "metadata": {},
   "outputs": [],
   "source": [
    "def solution(progresses, speeds):\n",
    "    answer = [] # 결과 리스트\n",
    "    cnt = 0 # 하루에 몇개까지 배포되는지\n",
    "    \n",
    "    # 맨 앞이 100이 되어야 배포가 되니\n",
    "    while progresses[0] >= 100:\n",
    "    # 카운트 추가 시키고 진도와 속도 맨앞 pop    \n",
    "        cnt += 1 \n",
    "        progresses.pop(0)\n",
    "        speeds.pop(0)\n",
    "    \n",
    "    # 작업 리스트애들 100되는 애들 선별\n",
    "    progresses = [progresses[i]+speeds[i] for i in range(len(progresses))]\n",
    "    \n",
    "    # 배포될 조건이 되면 answer에 추가\n",
    "    if cnt:\n",
    "        answer.append(cnt)\n",
    "        \n",
    "    return answer"
   ]
  },
  {
   "cell_type": "code",
   "execution_count": 19,
   "id": "5cae6632",
   "metadata": {},
   "outputs": [],
   "source": [
    "\n",
    "def solution(p,a):\n",
    "    answer = []\n",
    "    cnt = \n",
    "    while p > 0:\n",
    "        if (p[0] + )\n",
    "        if p[i]+a[i] == 100:\n",
    "            break"
   ]
  },
  {
   "cell_type": "code",
   "execution_count": 17,
   "id": "5f36be12",
   "metadata": {},
   "outputs": [
    {
     "data": {
      "text/plain": [
       "int"
      ]
     },
     "execution_count": 17,
     "metadata": {},
     "output_type": "execute_result"
    }
   ],
   "source": [
    "a = [1,2,3]\n",
    "type(a[0]+a[2])"
   ]
  }
 ],
 "metadata": {
  "kernelspec": {
   "display_name": "Python 3 (ipykernel)",
   "language": "python",
   "name": "python3"
  },
  "language_info": {
   "codemirror_mode": {
    "name": "ipython",
    "version": 3
   },
   "file_extension": ".py",
   "mimetype": "text/x-python",
   "name": "python",
   "nbconvert_exporter": "python",
   "pygments_lexer": "ipython3",
   "version": "3.10.9"
  }
 },
 "nbformat": 4,
 "nbformat_minor": 5
}
