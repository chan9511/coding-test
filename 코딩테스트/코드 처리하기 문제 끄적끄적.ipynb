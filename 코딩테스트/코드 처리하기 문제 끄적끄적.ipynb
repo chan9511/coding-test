{
 "cells": [
  {
   "cell_type": "code",
   "execution_count": 9,
   "id": "e84549b5",
   "metadata": {},
   "outputs": [
    {
     "data": {
      "text/plain": [
       "'acbac'"
      ]
     },
     "execution_count": 9,
     "metadata": {},
     "output_type": "execute_result"
    }
   ],
   "source": [
    "# 문제이해 및 요약.\n",
    "# code 를 처리하는데, for문으로 가정하면 len(code)를\n",
    "# 반복문으로 i 값을 idx 로 가정할 수 있다.\n",
    "# 일단 첫번째 조건은 mode 가 0일 때, 1일 때이다.\n",
    "# mode = 0 이면, i가 짝수값이면 ret 의 맨뒤에 code(i)를 append 해준다.\n",
    "# mode = 1 이면, i가 홀수값이면 ret 의 맨뒤에 code(i)를 append 해준다.\n",
    "\n",
    "# code[idx]가 \"1\"이 나온다면 모드는 변경된다. \n",
    "# ex) mode = 0 -> 1 , mode = 1 -> 0\n",
    "\n",
    "# 그리고 마지막 조건으로 append를 담아주는 ret 이\n",
    "# 빈 문자열이면 \"EMPTY\"를 리턴해준다.\n",
    "\n",
    "def solution(code):\n",
    "    answer = ''\n",
    "    mode = 0\n",
    "    for i in range(len(code)):\n",
    "        if code[i] == '1':\n",
    "            if mode == 0:\n",
    "                mode = 1\n",
    "            else:\n",
    "                mode = 0\n",
    "        elif mode == 0 and i % 2 == 0:\n",
    "            answer += code[i]\n",
    "        elif mode == 1 and i % 2 == 1:\n",
    "            answer += code[i]\n",
    "    if len(answer) == 0:\n",
    "        return 'EMPTY'\n",
    "\n",
    "    return answer\n",
    "\n",
    "solution(\"abc1abc1abc\")"
   ]
  }
 ],
 "metadata": {
  "kernelspec": {
   "display_name": "Python 3 (ipykernel)",
   "language": "python",
   "name": "python3"
  },
  "language_info": {
   "codemirror_mode": {
    "name": "ipython",
    "version": 3
   },
   "file_extension": ".py",
   "mimetype": "text/x-python",
   "name": "python",
   "nbconvert_exporter": "python",
   "pygments_lexer": "ipython3",
   "version": "3.10.9"
  }
 },
 "nbformat": 4,
 "nbformat_minor": 5
}
