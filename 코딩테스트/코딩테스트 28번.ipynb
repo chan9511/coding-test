{
 "cells": [
  {
   "cell_type": "code",
   "execution_count": 1,
   "id": "5b51478e",
   "metadata": {},
   "outputs": [],
   "source": [
    "https://school.programmers.co.kr/learn/courses/30/lessons/42862\n",
    "\n",
    "def solution(n, lost, reserve):\n",
    "     \n",
    "    a = set(reserve) \n",
    "    b = set(lost) \n",
    "    \n",
    "    for i in a:\n",
    "        \n",
    "        if i-1 in b: # 여벌로 가지고 있는 학생이 앞쪽 없는 학생한테 주는 경우\n",
    "            b.remove(i-1)\n",
    "        \n",
    "        elif i+1 in b: # 왼쪽을 충족시키고 뒷쪽 없는 학생한테 주는 경우\n",
    "            b.remove(i+1)\n",
    "            \n",
    "    return n - len(b) # 전체 학생 수에서 다 빌려주고도 없는 학생들 빼기"
   ]
  },
  {
   "cell_type": "code",
   "execution_count": 3,
   "id": "dc6531d4",
   "metadata": {},
   "outputs": [],
   "source": [
    "def solution(n, lost, reserve):\n",
    "    \n",
    "      \n",
    "    chajip_reserve = set(reserve) - set(lost) \n",
    "    chajip_lost = set(lost) - set(reserve) \n",
    "    \n",
    "    for i in chajip_reserve:\n",
    "        \n",
    "        if i-1 in chajip_lost: # 여벌로 가지고 있는 학생이 앞쪽 없는 학생한테 주는 경우\n",
    "            chajip_lost.remove(i-1)\n",
    "        \n",
    "        elif i+1 in chajip_lost: # 왼쪽을 충족시키고 뒷쪽 없는 학생한테 주는 경우\n",
    "            chajip_lost.remove(i+1)\n",
    "            \n",
    "    return n - len(chajip_lost) # 전체 학생 수에서 다 빌려주고도 없는 학생들 빼기"
   ]
  }
 ],
 "metadata": {
  "kernelspec": {
   "display_name": "Python 3 (ipykernel)",
   "language": "python",
   "name": "python3"
  },
  "language_info": {
   "codemirror_mode": {
    "name": "ipython",
    "version": 3
   },
   "file_extension": ".py",
   "mimetype": "text/x-python",
   "name": "python",
   "nbconvert_exporter": "python",
   "pygments_lexer": "ipython3",
   "version": "3.10.9"
  }
 },
 "nbformat": 4,
 "nbformat_minor": 5
}
