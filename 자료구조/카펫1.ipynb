{
 "cells": [
  {
   "cell_type": "code",
   "execution_count": null,
   "id": "c5facd77",
   "metadata": {},
   "outputs": [],
   "source": [
    "def solution(brown, yellow):\n",
    "    answer = []\n",
    "    return answer\n",
    "# (문제 접근)  brown + yellow  = return[0] * return[1]\n",
    "# return[0] >= return[1]\n",
    "# 약수부터 구해보자\n",
    "# if (brown + yellow) % i == 0:\n",
    "# answer.append(i) 약수 리스트\n",
    "# yaksu(약수) = answer.append(i)"
   ]
  },
  {
   "cell_type": "code",
   "execution_count": null,
   "id": "90e1773a",
   "metadata": {},
   "outputs": [],
   "source": [
    "def solution(brown, yellow):\n",
    "    answer = [] # 약수 담을 곳\n",
    "    BY = brown+yellow # 브라운 옐로우의 합\n",
    "    for i in range(1,BY+1):\n",
    "        if BY % i == 0:\n",
    "            answer.append(i) # 약수 냠냠\n",
    "        약수 = answer.append(i)\n",
    "        \n",
    "        len(약수)/2 4-1 4  \n",
    "        for j in 약수:\n",
    "        if len(약수) % 2 == 0:# 약수의 길이 짝수면 반짤라서 양 옆 값 리턴\n",
    "            return 약수[] * 2\n",
    "        else: len(약수) % 2 == 1: # 약수의 길이가 홀수면 가운데 있는 수 납치\n",
    "            return hi.append(j) * 2"
   ]
  },
  {
   "cell_type": "code",
   "execution_count": 4,
   "id": "a5acb186",
   "metadata": {
    "scrolled": true
   },
   "outputs": [
    {
     "ename": "SyntaxError",
     "evalue": "incomplete input (348437083.py, line 12)",
     "output_type": "error",
     "traceback": [
      "\u001b[1;36m  Cell \u001b[1;32mIn[4], line 12\u001b[1;36m\u001b[0m\n\u001b[1;33m    \u001b[0m\n\u001b[1;37m    ^\u001b[0m\n\u001b[1;31mSyntaxError\u001b[0m\u001b[1;31m:\u001b[0m incomplete input\n"
     ]
    }
   ],
   "source": [
    "2x + 2y -4 = x + y\n",
    "x + y = 4"
   ]
  },
  {
   "cell_type": "code",
   "execution_count": null,
   "id": "65a1f8c5",
   "metadata": {},
   "outputs": [],
   "source": [
    "# 이분 탐색 버전 뽑아옴\n",
    "def solution(brown, yellow):\n",
    "    n = (brown-4)//2\n",
    "    start = 1; end = int(n**1/2)+1\n",
    "    while start =<end:\n",
    "        mid = (start+end)//2\n",
    "        target = mid*(n-mid)\n",
    "        if target == yellow:\n",
    "            return [n-mid+2,mid+2]\n",
    "        elif target > yellow:\n",
    "            end = mid-1\n",
    "        else:\n",
    "            start = mid+1"
   ]
  },
  {
   "cell_type": "code",
   "execution_count": null,
   "id": "6dcaac38",
   "metadata": {},
   "outputs": [],
   "source": [
    "ㅁㅁㅁㅁ\n",
    "ㅁㅅㅅㅁ   2 w + 2 h -4 = w * y\n",
    "ㅁㅁㅁㅁ\n",
    "\n",
    " 2w + 2h\n",
    "ㅁㅁㅁ\n",
    "ㅁㅅㅁ\n",
    "ㅁㅁㅁ\n",
    "\n",
    "ㅁㅁㅁㅁㅁㅁㅁㅁ\n",
    "ㅁㅅㅅㅅㅅㅅㅅㅁ\n",
    "ㅁㅅㅅㅅㅅㅅㅅㅁ\n",
    "ㅁㅅㅅㅅㅅㅅㅅㅁ\n",
    "ㅁㅅㅅㅅㅅㅅㅅㅁ\n",
    "ㅁㅁㅁㅁㅁㅁㅁㅁ\n",
    "\n",
    "## zz 노란색 가로+2 하면 가로나오고 노란색 세로+2 세로나오네 야발 꺠씨빠리ㄸㅃ러ㅑㅒㅃ 로ㅒ 뽀ㅑ\n",
    "\n"
   ]
  },
  {
   "cell_type": "code",
   "execution_count": null,
   "id": "c07b199c",
   "metadata": {},
   "outputs": [],
   "source": [
    "def solution(yellow):\n",
    "    yellow_w = 0 # 가로\n",
    "    yellow_h = 0 # 세로\n",
    "    answer = []\n",
    "    \n",
    "    for i in range(1, yellow+1): # 노란색 1이상이라 1부터\n",
    "        if yellow % i == 0:\n",
    "            \n",
    "        "
   ]
  }
 ],
 "metadata": {
  "kernelspec": {
   "display_name": "Python 3 (ipykernel)",
   "language": "python",
   "name": "python3"
  },
  "language_info": {
   "codemirror_mode": {
    "name": "ipython",
    "version": 3
   },
   "file_extension": ".py",
   "mimetype": "text/x-python",
   "name": "python",
   "nbconvert_exporter": "python",
   "pygments_lexer": "ipython3",
   "version": "3.10.9"
  }
 },
 "nbformat": 4,
 "nbformat_minor": 5
}
